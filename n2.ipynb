{
  "nbformat": 4,
  "nbformat_minor": 0,
  "metadata": {
    "colab": {
      "provenance": [],
      "authorship_tag": "ABX9TyMWX+OuwN7OR83BWK2gsRff",
      "include_colab_link": true
    },
    "kernelspec": {
      "name": "python3",
      "display_name": "Python 3"
    },
    "language_info": {
      "name": "python"
    }
  },
  "cells": [
    {
      "cell_type": "markdown",
      "metadata": {
        "id": "view-in-github",
        "colab_type": "text"
      },
      "source": [
        "<a href=\"https://colab.research.google.com/github/alon3god/DS_intro/blob/homework/n2.ipynb\" target=\"_parent\"><img src=\"https://colab.research.google.com/assets/colab-badge.svg\" alt=\"Open In Colab\"/></a>"
      ]
    },
    {
      "cell_type": "code",
      "execution_count": null,
      "metadata": {
        "id": "MgX4MD6_NE4c"
      },
      "outputs": [],
      "source": [
        "import numpy as np"
      ]
    },
    {
      "cell_type": "markdown",
      "source": [
        "# №1\n"
      ],
      "metadata": {
        "id": "tdQJEkNOQkGV"
      }
    },
    {
      "cell_type": "code",
      "source": [
        "\n",
        "b = np.arange(31)\n",
        "print(\"b:\\n\", b)\n",
        "mask = b % 3 == 0\n",
        "print(\"Кратные 3:\", b[mask])\n"
      ],
      "metadata": {
        "colab": {
          "base_uri": "https://localhost:8080/"
        },
        "id": "jFcM1CseOlvy",
        "outputId": "262e78c4-befc-4a8a-bea4-a31b45fffb4f"
      },
      "execution_count": null,
      "outputs": [
        {
          "output_type": "stream",
          "name": "stdout",
          "text": [
            "b:\n",
            " [ 0  1  2  3  4  5  6  7  8  9 10 11 12 13 14 15 16 17 18 19 20 21 22 23\n",
            " 24 25 26 27 28 29 30]\n",
            "Кратные 3: [ 0  3  6  9 12 15 18 21 24 27 30]\n"
          ]
        }
      ]
    },
    {
      "cell_type": "markdown",
      "source": [
        "# №2"
      ],
      "metadata": {
        "id": "Bf81bC7qQr0F"
      }
    },
    {
      "cell_type": "code",
      "source": [
        "\n",
        "M = np.arange(30)\n",
        "print(M)\n",
        "m = M.reshape(5,6)\n",
        "print(m)\n",
        "print(\"Сумма по столбцам:\", m.sum(axis=0))"
      ],
      "metadata": {
        "colab": {
          "base_uri": "https://localhost:8080/"
        },
        "id": "EvPi-QvOQqbt",
        "outputId": "fb1a55dd-c4c4-4597-895e-c2e306bedfd7"
      },
      "execution_count": null,
      "outputs": [
        {
          "output_type": "stream",
          "name": "stdout",
          "text": [
            "[ 0  1  2  3  4  5  6  7  8  9 10 11 12 13 14 15 16 17 18 19 20 21 22 23\n",
            " 24 25 26 27 28 29]\n",
            "[[ 0  1  2  3  4  5]\n",
            " [ 6  7  8  9 10 11]\n",
            " [12 13 14 15 16 17]\n",
            " [18 19 20 21 22 23]\n",
            " [24 25 26 27 28 29]]\n",
            "Сумма по столбцам: [60 65 70 75 80 85]\n"
          ]
        }
      ]
    },
    {
      "cell_type": "code",
      "source": [],
      "metadata": {
        "id": "y6poL05ZQj3y"
      },
      "execution_count": null,
      "outputs": []
    }
  ]
}