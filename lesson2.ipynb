{
 "cells": [
  {
   "cell_type": "markdown",
   "id": "40cec068",
   "metadata": {},
   "source": [
    "# Занятие 2 — NumPy и Pandas\n",
    "\n",
    "**Цель:** ознакомиться с библиотеками NumPy и Pandas, научиться работать с массивами и таблицами, загрузить CSV (датасет Titanic) и выполнить базовый анализ: осмотр данных, поиск пропусков, агрегирование и подготовка простого отчёта.\n",
    "\n",
    "**План:**\n",
    "- NumPy: массивы, индексирование, reshape, broadcasting\n",
    "- Pandas: Series, DataFrame, чтение CSV, head/info/describe\n",
    "- Titanic — загрузка, пропуски, groupby, pivot, выборки\n",
    "- Мини-проект: краткий анализ и сохранение результатов\n"
   ]
  },
  {
   "cell_type": "code",
   "execution_count": 91,
   "id": "351abb80",
   "metadata": {},
   "outputs": [
    {
     "name": "stdout",
     "output_type": "stream",
     "text": [
      "Python: 3.12.11 (main, Jul 12 2025, 16:50:29) [GCC 14.2.1 20241028 (ALT Sisyphus 14.2.1-alt1)]\n",
      "NumPy: 2.1.3\n",
      "pandas: 2.2.3\n"
     ]
    }
   ],
   "source": [
    "# Базовые импорты\n",
    "import sys\n",
    "import numpy as np\n",
    "import pandas as pd\n",
    "\n",
    "print(\"Python:\", sys.version.splitlines()[0])\n",
    "print(\"NumPy:\", np.__version__)\n",
    "print(\"pandas:\", pd.__version__)"
   ]
  },
  {
   "cell_type": "markdown",
   "id": "4bd731ce",
   "metadata": {},
   "source": [
    "## 1. NumPy — массивы, индексирование, базовые операции\n",
    "Небольшая теория:\n",
    "- `ndarray` — основа NumPy (однородный, быстрый).\n",
    "- Индексация похожа на списки, но есть многомерные срезы.\n",
    "- Broadcasting — мощный инструмент для операций без циклов."
   ]
  },
  {
   "cell_type": "markdown",
   "id": "3301525a",
   "metadata": {},
   "source": [
    "### Создание массивов и базовые свойства"
   ]
  },
  {
   "cell_type": "code",
   "execution_count": 92,
   "id": "6931ad91",
   "metadata": {},
   "outputs": [
    {
     "name": "stdout",
     "output_type": "stream",
     "text": [
      "a: [1 2 3 4] dtype: int64 shape: (4,)\n",
      "\n",
      "M:\n",
      " [[1 2 3]\n",
      " [4 5 6]]\n",
      "shape M: (2, 3)\n",
      "\n",
      "zeros:\n",
      " [[0. 0. 0. 0.]\n",
      " [0. 0. 0. 0.]]\n",
      "ones: [1. 1. 1. 1. 1.]\n",
      "arange: [0 1 2 3 4 5 6 7 8 9]\n",
      "linspace: [0.   0.25 0.5  0.75 1.  ]\n"
     ]
    }
   ],
   "source": [
    "import numpy as np\n",
    "\n",
    "a = np.array([1, 2, 3, 4])\n",
    "print(\"a:\", a, \"dtype:\", a.dtype, \"shape:\", a.shape)\n",
    "\n",
    "M = np.array([[1,2,3],[4,5,6]])\n",
    "print(\"\\nM:\\n\", M)\n",
    "print(\"shape M:\", M.shape)\n",
    "\n",
    "zeros = np.zeros((2,4))\n",
    "ones = np.ones(5)\n",
    "ar = np.arange(10)  # 0..9\n",
    "lin = np.linspace(0,1,5)  # 5 чисел от 0 до 1\n",
    "print(\"\\nzeros:\\n\", zeros)\n",
    "print(\"ones:\", ones)\n",
    "print(\"arange:\", ar)\n",
    "print(\"linspace:\", lin)\n"
   ]
  },
  {
   "cell_type": "markdown",
   "id": "0e1d767f",
   "metadata": {},
   "source": [
    "### Индексация, срезы и reshape\n",
    "- Индексация: `arr[i]`, многомерная `M[i, j]`\n",
    "- Срезы: `arr[1:5]`, `M[:, 1]`\n",
    "- Изменение формы: `reshape`"
   ]
  },
  {
   "cell_type": "code",
   "execution_count": 93,
   "id": "e90d057b",
   "metadata": {},
   "outputs": [
    {
     "name": "stdout",
     "output_type": "stream",
     "text": [
      "b:\n",
      " [ 0  1  2  3  4  5  6  7  8  9 10 11]\n",
      "B:\n",
      " [[ 0  1  2  3]\n",
      " [ 4  5  6  7]\n",
      " [ 8  9 10 11]]\n",
      "B[1,2] = 6\n",
      "B[0] = [0 1 2 3]\n",
      "B[:,1] = [1 5 9]\n",
      "\n",
      "Булева маска (чётные):\n",
      " [[ True False  True False]\n",
      " [ True False  True False]\n",
      " [ True False  True False]]\n",
      "Чётные элементы: [ 0  2  4  6  8 10]\n"
     ]
    }
   ],
   "source": [
    "b = np.arange(12)\n",
    "print(\"b:\\n\", b)           # 0..11\n",
    "B = b.reshape(3,4)          # 3 строки, 4 столбца\n",
    "print(\"B:\\n\", B)\n",
    "\n",
    "print(\"B[1,2] =\", B[1,2])  # строка 1, столбец 2\n",
    "print(\"B[0] =\", B[0])      # первая строка\n",
    "print(\"B[:,1] =\", B[:,1])  # второй столбец\n",
    "\n",
    "mask = B % 2 == 0\n",
    "print(\"\\nБулева маска (чётные):\\n\", mask)\n",
    "print(\"Чётные элементы:\", B[mask])"
   ]
  },
  {
   "cell_type": "markdown",
   "id": "fd11b96c",
   "metadata": {},
   "source": [
    "### Векторные операции и Broadcasting\n",
    "- Операции выполняются поэлементно: `x + y`, `x * 2`\n",
    "- Broadcasting: добавление вектора к матрице и т.п."
   ]
  },
  {
   "cell_type": "code",
   "execution_count": 94,
   "id": "c87ed572",
   "metadata": {},
   "outputs": [
    {
     "name": "stdout",
     "output_type": "stream",
     "text": [
      "x + y = [11 22 33]\n",
      "x * 2 = [2 4 6]\n",
      "\n",
      "M:\n",
      " [[0 1 2]\n",
      " [3 4 5]]\n",
      "M + v:\n",
      " [[10 21 32]\n",
      " [13 24 35]]\n",
      "\n",
      "Сумма всех элементов: 15\n",
      "Сумма по столбцам: [3 5 7]\n",
      "Сумма по строкам: [ 3 12]\n"
     ]
    }
   ],
   "source": [
    "x = np.array([1,2,3])\n",
    "y = np.array([10,20,30])\n",
    "print(\"x + y =\", x + y)\n",
    "print(\"x * 2 =\", x * 2)\n",
    "\n",
    "M = np.arange(6).reshape(2,3)\n",
    "v = np.array([10,20,30])\n",
    "print(\"\\nM:\\n\", M)\n",
    "print(\"M + v:\\n\", M + v)   # v \"распространяется\" по строкам\n",
    "\n",
    "print(\"\\nСумма всех элементов:\", M.sum())\n",
    "print(\"Сумма по столбцам:\", M.sum(axis=0))\n",
    "print(\"Сумма по строкам:\", M.sum(axis=1))"
   ]
  },
  {
   "cell_type": "markdown",
   "id": "3f4e3bdb",
   "metadata": {},
   "source": [
    "### Полезные функции (ufuncs)\n",
    "- `np.sin` \n",
    "- `np.sqrt` \n",
    "- `np.where` \n",
    "- `np.clip` \n",
    "- `np.unique` \n",
    "- `np.mean` \n",
    "- `np.median`"
   ]
  },
  {
   "cell_type": "code",
   "execution_count": 95,
   "id": "e1ec4e78",
   "metadata": {},
   "outputs": [
    {
     "name": "stdout",
     "output_type": "stream",
     "text": [
      "arr: [0.         0.78539816 1.57079633 2.35619449 3.14159265]\n",
      "\n",
      "sin(arr): [0.00000000e+00 7.07106781e-01 1.00000000e+00 7.07106781e-01\n",
      " 1.22464680e-16]\n",
      "\n",
      "sqrt(0..4): [0.         1.         1.41421356 1.73205081 2.        ]\n",
      "\n",
      "A: [1 2 3 4 5 6]\n",
      "\n",
      "where A>3: (array([3, 4, 5]),)\n",
      "clip 2..5: [2 2 3 4 5 5]\n",
      "unique: [1 2 3]\n"
     ]
    }
   ],
   "source": [
    "arr = np.linspace(0, np.pi, 5)\n",
    "print(\"arr:\", arr)\n",
    "print()\n",
    "print(\"sin(arr):\", np.sin(arr))\n",
    "print()\n",
    "print(\"sqrt(0..4):\", np.sqrt(np.arange(5)))\n",
    "\n",
    "A = np.array([1,2,3,4,5,6])\n",
    "print()\n",
    "print(\"A:\", A)\n",
    "print(\"\\nwhere A>3:\", np.where(A>3))\n",
    "print(\"clip 2..5:\", np.clip(A, 2, 5)) # все значения, которые выходят за пределы заданного диапазона, заменяются на крайние значения этого диапазона. \n",
    "print(\"unique:\", np.unique([1,2,2,3]))"
   ]
  },
  {
   "cell_type": "markdown",
   "id": "b174a1f7",
   "metadata": {},
   "source": [
    "### Практика \n",
    "**Задания:**\n",
    "1. Создайте массив `arr` из 1..30. Извлеките элементы, кратные 3.  \n",
    "2. Создайте матрицу 6×5, поменяйте форму на 5×6, найдите сумму по столбцам.  \n",
    "3. Создайте два случайных массива `a`, `b` длиной 10, выполните поэлементное умножение и найдите среднее.\n"
   ]
  },
  {
   "cell_type": "markdown",
   "id": "01793c12",
   "metadata": {},
   "source": [
    "## 2. Pandas — Series и DataFrame\n",
    "- `Series` — одномерная метка+значение,\n",
    "- `DataFrame` — табличные данные (строки/столбцы),\n",
    "- Частые методы: \n",
    "    + `head()` \n",
    "    + `info()` \n",
    "    + `describe()` \n",
    "    + `value_counts()` \n",
    "    + `isna()` \n",
    "    + `groupby()`\n"
   ]
  },
  {
   "cell_type": "code",
   "execution_count": 98,
   "id": "c9e9598f",
   "metadata": {},
   "outputs": [
    {
     "name": "stdout",
     "output_type": "stream",
     "text": [
      "Series s:\n",
      " a    10\n",
      "b    20\n",
      "c    30\n",
      "dtype: int64\n",
      "\n",
      "DataFrame df:\n",
      "      name  age  score\n",
      "0    Anya   15     88\n",
      "1   Boris   16     92\n",
      "2   Katya   15     79\n",
      "3  Dmitri   17     85\n",
      "\n",
      "Колонки: Index(['name', 'age', 'score'], dtype='object')\n",
      "Типы:\n",
      " name     object\n",
      "age       int64\n",
      "score     int64\n",
      "dtype: object\n",
      "\n",
      "df.loc[0]:\n",
      " name     Anya\n",
      "age        15\n",
      "score      88\n",
      "Name: 0, dtype: object\n",
      "\n",
      "df['name']:\n",
      " 0      Anya\n",
      "1     Boris\n",
      "2     Katya\n",
      "3    Dmitri\n",
      "Name: name, dtype: object\n"
     ]
    }
   ],
   "source": [
    "import pandas as pd\n",
    "\n",
    "# Series\n",
    "s = pd.Series([10,20,30], index=['a','b','c'])\n",
    "print(\"Series s:\\n\", s)\n",
    "\n",
    "# DataFrame вручную\n",
    "data = {'name': ['Anya','Boris','Katya','Dmitri'],\n",
    "        'age': [15,16,15,17],\n",
    "        'score': [88,92,79,85]}\n",
    "df = pd.DataFrame(data)\n",
    "print(\"\\nDataFrame df:\\n\", df)\n",
    "print(\"\\nКолонки:\", df.columns)\n",
    "print(\"Типы:\\n\", df.dtypes)\n",
    "print(\"\\ndf.loc[0]:\\n\", df.loc[0])\n",
    "print(\"\\ndf['name']:\\n\", df['name'])"
   ]
  },
  {
   "cell_type": "markdown",
   "id": "9b0b07b2",
   "metadata": {},
   "source": [
    "### Чтение CSV\n",
    "Мы используем встроенный маленький CSV для примера. На практике читаем `pd.read_csv(\"file.csv\")`."
   ]
  },
  {
   "cell_type": "code",
   "execution_count": 99,
   "id": "af2cfda9",
   "metadata": {},
   "outputs": [
    {
     "name": "stdout",
     "output_type": "stream",
     "text": [
      "df2:\n",
      "      name  age  score group\n",
      "0    Anya   15     88     A\n",
      "1   Boris   16     92     A\n",
      "2   Katya   15     79     B\n",
      "3  Dmitri   17     85     B\n",
      "4   Elena   16     91     A\n"
     ]
    }
   ],
   "source": [
    "from io import StringIO\n",
    "\n",
    "csv_text = \"\"\"name,age,score,group\n",
    "Anya,15,88,A\n",
    "Boris,16,92,A\n",
    "Katya,15,79,B\n",
    "Dmitri,17,85,B\n",
    "Elena,16,91,A\n",
    "\"\"\"\n",
    "\n",
    "df2 = pd.read_csv(StringIO(csv_text))\n",
    "print(\"df2:\\n\", df2)"
   ]
  },
  {
   "cell_type": "markdown",
   "id": "fa8907d4",
   "metadata": {},
   "source": [
    "### Быстрый осмотр DataFrame\n",
    "- `df.head()` \n",
    "- `df.info()` \n",
    "- `df.describe()` \n",
    "- `df.shape`"
   ]
  },
  {
   "cell_type": "code",
   "execution_count": 100,
   "id": "2e1bc1b4",
   "metadata": {},
   "outputs": [
    {
     "name": "stdout",
     "output_type": "stream",
     "text": [
      "shape: (5, 4)\n",
      "\n",
      "info:\n",
      "<class 'pandas.core.frame.DataFrame'>\n",
      "RangeIndex: 5 entries, 0 to 4\n",
      "Data columns (total 4 columns):\n",
      " #   Column  Non-Null Count  Dtype \n",
      "---  ------  --------------  ----- \n",
      " 0   name    5 non-null      object\n",
      " 1   age     5 non-null      int64 \n",
      " 2   score   5 non-null      int64 \n",
      " 3   group   5 non-null      object\n",
      "dtypes: int64(2), object(2)\n",
      "memory usage: 292.0+ bytes\n",
      "None\n",
      "\n",
      "describe:\n",
      "         name       age      score group\n",
      "count      5   5.00000   5.000000     5\n",
      "unique     5       NaN        NaN     2\n",
      "top     Anya       NaN        NaN     A\n",
      "freq       1       NaN        NaN     3\n",
      "mean     NaN  15.80000  87.000000   NaN\n",
      "std      NaN   0.83666   5.244044   NaN\n",
      "min      NaN  15.00000  79.000000   NaN\n",
      "25%      NaN  15.00000  85.000000   NaN\n",
      "50%      NaN  16.00000  88.000000   NaN\n",
      "75%      NaN  16.00000  91.000000   NaN\n",
      "max      NaN  17.00000  92.000000   NaN\n"
     ]
    }
   ],
   "source": [
    "print(\"shape:\", df2.shape)\n",
    "print(\"\\ninfo:\")\n",
    "print(df2.info())\n",
    "print(\"\\ndescribe:\\n\", df2.describe(include='all'))"
   ]
  },
  {
   "cell_type": "markdown",
   "id": "3dd51ad4",
   "metadata": {},
   "source": [
    "### Фильтрация, новые колонки, сортировка"
   ]
  },
  {
   "cell_type": "code",
   "execution_count": 101,
   "id": "87b202e1",
   "metadata": {},
   "outputs": [
    {
     "name": "stdout",
     "output_type": "stream",
     "text": [
      "Ученики группы A:\n",
      "     name  age  score group\n",
      "0   Anya   15     88     A\n",
      "1  Boris   16     92     A\n",
      "4  Elena   16     91     A\n",
      "\n",
      "With passed:\n",
      "      name  age  score group  passed\n",
      "0    Anya   15     88     A    True\n",
      "1   Boris   16     92     A    True\n",
      "2   Katya   15     79     B   False\n",
      "3  Dmitri   17     85     B    True\n",
      "4   Elena   16     91     A    True\n",
      "\n",
      "Top by score:\n",
      "     name  age  score group  passed\n",
      "1  Boris   16     92     A    True\n",
      "4  Elena   16     91     A    True\n",
      "0   Anya   15     88     A    True\n"
     ]
    }
   ],
   "source": [
    "# Фильтрация\n",
    "print(\"Ученики группы A:\\n\", df2[df2['group'] == 'A'])\n",
    "\n",
    "# Новая колонка\n",
    "df2['passed'] = df2['score'] >= 80\n",
    "print(\"\\nWith passed:\\n\", df2)\n",
    "\n",
    "# Топ по score\n",
    "print(\"\\nTop by score:\\n\", df2.sort_values('score', ascending=False).head(3))"
   ]
  },
  {
   "cell_type": "markdown",
   "id": "cd8ebb1b",
   "metadata": {},
   "source": [
    "### Пропуски и очистка\n",
    "- Проверить `df.isna().sum()`\n",
    "- Можно `fillna()` средним/медианой, или удалить строки `dropna()`"
   ]
  },
  {
   "cell_type": "code",
   "execution_count": 102,
   "id": "5ef71e96",
   "metadata": {},
   "outputs": [
    {
     "name": "stdout",
     "output_type": "stream",
     "text": [
      "df3:\n",
      "      name   age  score group  passed\n",
      "0    Anya  15.0   88.0     A    True\n",
      "1   Boris  16.0   92.0     A    True\n",
      "2   Katya  15.0    NaN     B   False\n",
      "3  Dmitri  17.0   85.0     B    True\n",
      "4   Elena   NaN   91.0     A    True\n",
      "\n",
      "Missing counts:\n",
      " name      0\n",
      "age       1\n",
      "score     1\n",
      "group     0\n",
      "passed    0\n",
      "dtype: int64\n",
      "\n",
      "Filled df3:\n",
      "      name   age  score group  passed\n",
      "0    Anya  15.0   88.0     A    True\n",
      "1   Boris  16.0   92.0     A    True\n",
      "2   Katya  15.0   89.0     B   False\n",
      "3  Dmitri  17.0   85.0     B    True\n",
      "4   Elena  15.5   91.0     A    True\n"
     ]
    }
   ],
   "source": [
    "# Пример пропусков и заполнения\n",
    "df3 = df2.copy()\n",
    "df3.loc[2, 'score'] = None\n",
    "df3.loc[4, 'age'] = None\n",
    "print(\"df3:\\n\", df3)\n",
    "print(\"\\nMissing counts:\\n\", df3.isna().sum())\n",
    "\n",
    "# Заполняем\n",
    "df3['score'] = df3['score'].fillna(df3['score'].mean())\n",
    "df3['age'] = df3['age'].fillna(df3['age'].median())\n",
    "print(\"\\nFilled df3:\\n\", df3)"
   ]
  },
  {
   "cell_type": "markdown",
   "id": "b95a12ac",
   "metadata": {},
   "source": [
    "## 3. Практика с реальным датасетом — Titanic\n",
    "\n",
    "Мы используем классический набор данных Titanic. Он удобен: небольшая таблица, пропуски, категориальные и числовые признаки.\n",
    "\n",
    "**Варианты загрузки:**\n",
    "- `sns.load_dataset('titanic')` (через seaborn),\n",
    "- `pd.read_csv(URL)` (если у вас локальный/онлайн CSV),\n",
    "- В Colab можно загрузить файл с диска.\n",
    "\n",
    "Мы попробуем `seaborn` как простой способ — если seaborn нет, будем загружать из GitHub."
   ]
  },
  {
   "cell_type": "code",
   "execution_count": 115,
   "id": "bcc2446a",
   "metadata": {},
   "outputs": [
    {
     "name": "stdout",
     "output_type": "stream",
     "text": [
      "Loaded titanic via seaborn\n",
      "\n",
      "Shape: (891, 15)\n",
      "Columns: ['survived', 'pclass', 'sex', 'age', 'sibsp', 'parch', 'fare', 'embarked', 'class', 'who', 'adult_male', 'deck', 'embark_town', 'alive', 'alone']\n"
     ]
    }
   ],
   "source": [
    "# Попробуем загрузить через seaborn, иначе используем прямую ссылку\n",
    "try:\n",
    "    import seaborn as sns\n",
    "    tit = sns.load_dataset('titanic')\n",
    "    print(\"Loaded titanic via seaborn\")\n",
    "except Exception as e:\n",
    "    print(\"seaborn не доступен, попытаемся из URL\")\n",
    "    url = \"https://raw.githubusercontent.com/datasciencedojo/datasets/master/titanic.csv\"\n",
    "    tit = pd.read_csv(url)\n",
    "    print(\"Loaded titanic via URL\")\n",
    "\n",
    "print(\"\\nShape:\", tit.shape)\n",
    "print(\"Columns:\", tit.columns.tolist())"
   ]
  },
  {
   "cell_type": "code",
   "execution_count": 116,
   "id": "37d79a76",
   "metadata": {},
   "outputs": [
    {
     "data": {
      "text/html": [
       "<div>\n",
       "<style scoped>\n",
       "    .dataframe tbody tr th:only-of-type {\n",
       "        vertical-align: middle;\n",
       "    }\n",
       "\n",
       "    .dataframe tbody tr th {\n",
       "        vertical-align: top;\n",
       "    }\n",
       "\n",
       "    .dataframe thead th {\n",
       "        text-align: right;\n",
       "    }\n",
       "</style>\n",
       "<table border=\"1\" class=\"dataframe\">\n",
       "  <thead>\n",
       "    <tr style=\"text-align: right;\">\n",
       "      <th></th>\n",
       "      <th>survived</th>\n",
       "      <th>pclass</th>\n",
       "      <th>sex</th>\n",
       "      <th>age</th>\n",
       "      <th>sibsp</th>\n",
       "      <th>parch</th>\n",
       "      <th>fare</th>\n",
       "      <th>embarked</th>\n",
       "      <th>class</th>\n",
       "      <th>who</th>\n",
       "      <th>adult_male</th>\n",
       "      <th>deck</th>\n",
       "      <th>embark_town</th>\n",
       "      <th>alive</th>\n",
       "      <th>alone</th>\n",
       "    </tr>\n",
       "  </thead>\n",
       "  <tbody>\n",
       "    <tr>\n",
       "      <th>0</th>\n",
       "      <td>0</td>\n",
       "      <td>3</td>\n",
       "      <td>male</td>\n",
       "      <td>22.0</td>\n",
       "      <td>1</td>\n",
       "      <td>0</td>\n",
       "      <td>7.2500</td>\n",
       "      <td>S</td>\n",
       "      <td>Third</td>\n",
       "      <td>man</td>\n",
       "      <td>True</td>\n",
       "      <td>NaN</td>\n",
       "      <td>Southampton</td>\n",
       "      <td>no</td>\n",
       "      <td>False</td>\n",
       "    </tr>\n",
       "    <tr>\n",
       "      <th>1</th>\n",
       "      <td>1</td>\n",
       "      <td>1</td>\n",
       "      <td>female</td>\n",
       "      <td>38.0</td>\n",
       "      <td>1</td>\n",
       "      <td>0</td>\n",
       "      <td>71.2833</td>\n",
       "      <td>C</td>\n",
       "      <td>First</td>\n",
       "      <td>woman</td>\n",
       "      <td>False</td>\n",
       "      <td>C</td>\n",
       "      <td>Cherbourg</td>\n",
       "      <td>yes</td>\n",
       "      <td>False</td>\n",
       "    </tr>\n",
       "    <tr>\n",
       "      <th>2</th>\n",
       "      <td>1</td>\n",
       "      <td>3</td>\n",
       "      <td>female</td>\n",
       "      <td>26.0</td>\n",
       "      <td>0</td>\n",
       "      <td>0</td>\n",
       "      <td>7.9250</td>\n",
       "      <td>S</td>\n",
       "      <td>Third</td>\n",
       "      <td>woman</td>\n",
       "      <td>False</td>\n",
       "      <td>NaN</td>\n",
       "      <td>Southampton</td>\n",
       "      <td>yes</td>\n",
       "      <td>True</td>\n",
       "    </tr>\n",
       "    <tr>\n",
       "      <th>3</th>\n",
       "      <td>1</td>\n",
       "      <td>1</td>\n",
       "      <td>female</td>\n",
       "      <td>35.0</td>\n",
       "      <td>1</td>\n",
       "      <td>0</td>\n",
       "      <td>53.1000</td>\n",
       "      <td>S</td>\n",
       "      <td>First</td>\n",
       "      <td>woman</td>\n",
       "      <td>False</td>\n",
       "      <td>C</td>\n",
       "      <td>Southampton</td>\n",
       "      <td>yes</td>\n",
       "      <td>False</td>\n",
       "    </tr>\n",
       "    <tr>\n",
       "      <th>4</th>\n",
       "      <td>0</td>\n",
       "      <td>3</td>\n",
       "      <td>male</td>\n",
       "      <td>35.0</td>\n",
       "      <td>0</td>\n",
       "      <td>0</td>\n",
       "      <td>8.0500</td>\n",
       "      <td>S</td>\n",
       "      <td>Third</td>\n",
       "      <td>man</td>\n",
       "      <td>True</td>\n",
       "      <td>NaN</td>\n",
       "      <td>Southampton</td>\n",
       "      <td>no</td>\n",
       "      <td>True</td>\n",
       "    </tr>\n",
       "    <tr>\n",
       "      <th>...</th>\n",
       "      <td>...</td>\n",
       "      <td>...</td>\n",
       "      <td>...</td>\n",
       "      <td>...</td>\n",
       "      <td>...</td>\n",
       "      <td>...</td>\n",
       "      <td>...</td>\n",
       "      <td>...</td>\n",
       "      <td>...</td>\n",
       "      <td>...</td>\n",
       "      <td>...</td>\n",
       "      <td>...</td>\n",
       "      <td>...</td>\n",
       "      <td>...</td>\n",
       "      <td>...</td>\n",
       "    </tr>\n",
       "    <tr>\n",
       "      <th>886</th>\n",
       "      <td>0</td>\n",
       "      <td>2</td>\n",
       "      <td>male</td>\n",
       "      <td>27.0</td>\n",
       "      <td>0</td>\n",
       "      <td>0</td>\n",
       "      <td>13.0000</td>\n",
       "      <td>S</td>\n",
       "      <td>Second</td>\n",
       "      <td>man</td>\n",
       "      <td>True</td>\n",
       "      <td>NaN</td>\n",
       "      <td>Southampton</td>\n",
       "      <td>no</td>\n",
       "      <td>True</td>\n",
       "    </tr>\n",
       "    <tr>\n",
       "      <th>887</th>\n",
       "      <td>1</td>\n",
       "      <td>1</td>\n",
       "      <td>female</td>\n",
       "      <td>19.0</td>\n",
       "      <td>0</td>\n",
       "      <td>0</td>\n",
       "      <td>30.0000</td>\n",
       "      <td>S</td>\n",
       "      <td>First</td>\n",
       "      <td>woman</td>\n",
       "      <td>False</td>\n",
       "      <td>B</td>\n",
       "      <td>Southampton</td>\n",
       "      <td>yes</td>\n",
       "      <td>True</td>\n",
       "    </tr>\n",
       "    <tr>\n",
       "      <th>888</th>\n",
       "      <td>0</td>\n",
       "      <td>3</td>\n",
       "      <td>female</td>\n",
       "      <td>NaN</td>\n",
       "      <td>1</td>\n",
       "      <td>2</td>\n",
       "      <td>23.4500</td>\n",
       "      <td>S</td>\n",
       "      <td>Third</td>\n",
       "      <td>woman</td>\n",
       "      <td>False</td>\n",
       "      <td>NaN</td>\n",
       "      <td>Southampton</td>\n",
       "      <td>no</td>\n",
       "      <td>False</td>\n",
       "    </tr>\n",
       "    <tr>\n",
       "      <th>889</th>\n",
       "      <td>1</td>\n",
       "      <td>1</td>\n",
       "      <td>male</td>\n",
       "      <td>26.0</td>\n",
       "      <td>0</td>\n",
       "      <td>0</td>\n",
       "      <td>30.0000</td>\n",
       "      <td>C</td>\n",
       "      <td>First</td>\n",
       "      <td>man</td>\n",
       "      <td>True</td>\n",
       "      <td>C</td>\n",
       "      <td>Cherbourg</td>\n",
       "      <td>yes</td>\n",
       "      <td>True</td>\n",
       "    </tr>\n",
       "    <tr>\n",
       "      <th>890</th>\n",
       "      <td>0</td>\n",
       "      <td>3</td>\n",
       "      <td>male</td>\n",
       "      <td>32.0</td>\n",
       "      <td>0</td>\n",
       "      <td>0</td>\n",
       "      <td>7.7500</td>\n",
       "      <td>Q</td>\n",
       "      <td>Third</td>\n",
       "      <td>man</td>\n",
       "      <td>True</td>\n",
       "      <td>NaN</td>\n",
       "      <td>Queenstown</td>\n",
       "      <td>no</td>\n",
       "      <td>True</td>\n",
       "    </tr>\n",
       "  </tbody>\n",
       "</table>\n",
       "<p>891 rows × 15 columns</p>\n",
       "</div>"
      ],
      "text/plain": [
       "     survived  pclass     sex   age  sibsp  parch     fare embarked   class  \\\n",
       "0           0       3    male  22.0      1      0   7.2500        S   Third   \n",
       "1           1       1  female  38.0      1      0  71.2833        C   First   \n",
       "2           1       3  female  26.0      0      0   7.9250        S   Third   \n",
       "3           1       1  female  35.0      1      0  53.1000        S   First   \n",
       "4           0       3    male  35.0      0      0   8.0500        S   Third   \n",
       "..        ...     ...     ...   ...    ...    ...      ...      ...     ...   \n",
       "886         0       2    male  27.0      0      0  13.0000        S  Second   \n",
       "887         1       1  female  19.0      0      0  30.0000        S   First   \n",
       "888         0       3  female   NaN      1      2  23.4500        S   Third   \n",
       "889         1       1    male  26.0      0      0  30.0000        C   First   \n",
       "890         0       3    male  32.0      0      0   7.7500        Q   Third   \n",
       "\n",
       "       who  adult_male deck  embark_town alive  alone  \n",
       "0      man        True  NaN  Southampton    no  False  \n",
       "1    woman       False    C    Cherbourg   yes  False  \n",
       "2    woman       False  NaN  Southampton   yes   True  \n",
       "3    woman       False    C  Southampton   yes  False  \n",
       "4      man        True  NaN  Southampton    no   True  \n",
       "..     ...         ...  ...          ...   ...    ...  \n",
       "886    man        True  NaN  Southampton    no   True  \n",
       "887  woman       False    B  Southampton   yes   True  \n",
       "888  woman       False  NaN  Southampton    no  False  \n",
       "889    man        True    C    Cherbourg   yes   True  \n",
       "890    man        True  NaN   Queenstown    no   True  \n",
       "\n",
       "[891 rows x 15 columns]"
      ]
     },
     "execution_count": 116,
     "metadata": {},
     "output_type": "execute_result"
    }
   ],
   "source": [
    "pd.set_option('display.max_rows', 15)\n",
    "tit"
   ]
  },
  {
   "cell_type": "code",
   "execution_count": null,
   "id": "b37f2255",
   "metadata": {},
   "outputs": [
    {
     "name": "stdout",
     "output_type": "stream",
     "text": [
      "head:\n",
      "    survived  pclass     sex   age  sibsp  parch     fare embarked  class  \\\n",
      "0         0       3    male  22.0      1      0   7.2500        S  Third   \n",
      "1         1       1  female  38.0      1      0  71.2833        C  First   \n",
      "2         1       3  female  26.0      0      0   7.9250        S  Third   \n",
      "3         1       1  female  35.0      1      0  53.1000        S  First   \n",
      "4         0       3    male  35.0      0      0   8.0500        S  Third   \n",
      "\n",
      "     who  adult_male deck  embark_town alive  alone  \n",
      "0    man        True  NaN  Southampton    no  False  \n",
      "1  woman       False    C    Cherbourg   yes  False  \n",
      "2  woman       False  NaN  Southampton   yes   True  \n",
      "3  woman       False    C  Southampton   yes  False  \n",
      "4    man        True  NaN  Southampton    no   True  \n",
      "\n",
      "info:\n",
      "<class 'pandas.core.frame.DataFrame'>\n",
      "RangeIndex: 891 entries, 0 to 890\n",
      "Data columns (total 15 columns):\n",
      " #   Column       Non-Null Count  Dtype   \n",
      "---  ------       --------------  -----   \n",
      " 0   survived     891 non-null    int64   \n",
      " 1   pclass       891 non-null    int64   \n",
      " 2   sex          891 non-null    object  \n",
      " 3   age          714 non-null    float64 \n",
      " 4   sibsp        891 non-null    int64   \n",
      " 5   parch        891 non-null    int64   \n",
      " 6   fare         891 non-null    float64 \n",
      " 7   embarked     889 non-null    object  \n",
      " 8   class        891 non-null    category\n",
      " 9   who          891 non-null    object  \n",
      " 10  adult_male   891 non-null    bool    \n",
      " 11  deck         203 non-null    category\n",
      " 12  embark_town  889 non-null    object  \n",
      " 13  alive        891 non-null    object  \n",
      " 14  alone        891 non-null    bool    \n",
      "dtypes: bool(2), category(2), float64(2), int64(4), object(5)\n",
      "memory usage: 80.7+ KB\n",
      "\n",
      "describe:\n",
      "              count unique          top freq       mean        std   min  \\\n",
      "survived     891.0    NaN          NaN  NaN   0.383838   0.486592   0.0   \n",
      "pclass       891.0    NaN          NaN  NaN   2.308642   0.836071   1.0   \n",
      "sex            891      2         male  577        NaN        NaN   NaN   \n",
      "age          714.0    NaN          NaN  NaN  29.699118  14.526497  0.42   \n",
      "sibsp        891.0    NaN          NaN  NaN   0.523008   1.102743   0.0   \n",
      "parch        891.0    NaN          NaN  NaN   0.381594   0.806057   0.0   \n",
      "fare         891.0    NaN          NaN  NaN  32.204208  49.693429   0.0   \n",
      "embarked       889      3            S  644        NaN        NaN   NaN   \n",
      "class          891      3        Third  491        NaN        NaN   NaN   \n",
      "who            891      3          man  537        NaN        NaN   NaN   \n",
      "adult_male     891      2         True  537        NaN        NaN   NaN   \n",
      "deck           203      7            C   59        NaN        NaN   NaN   \n",
      "embark_town    889      3  Southampton  644        NaN        NaN   NaN   \n",
      "alive          891      2           no  549        NaN        NaN   NaN   \n",
      "alone          891      2         True  537        NaN        NaN   NaN   \n",
      "\n",
      "                25%      50%   75%       max  \n",
      "survived        0.0      0.0   1.0       1.0  \n",
      "pclass          2.0      3.0   3.0       3.0  \n",
      "sex             NaN      NaN   NaN       NaN  \n",
      "age          20.125     28.0  38.0      80.0  \n",
      "sibsp           0.0      0.0   1.0       8.0  \n",
      "parch           0.0      0.0   0.0       6.0  \n",
      "fare         7.9104  14.4542  31.0  512.3292  \n",
      "embarked        NaN      NaN   NaN       NaN  \n",
      "class           NaN      NaN   NaN       NaN  \n",
      "who             NaN      NaN   NaN       NaN  \n",
      "adult_male      NaN      NaN   NaN       NaN  \n",
      "deck            NaN      NaN   NaN       NaN  \n",
      "embark_town     NaN      NaN   NaN       NaN  \n",
      "alive           NaN      NaN   NaN       NaN  \n",
      "alone           NaN      NaN   NaN       NaN  \n"
     ]
    }
   ],
   "source": [
    "print(\"head:\\n\", tit.head())\n",
    "print(\"\\ninfo:\")\n",
    "tit.info()\n",
    "print(\"\\ndescribe:\\n\", tit.describe(include='all').T)"
   ]
  },
  {
   "cell_type": "markdown",
   "id": "3a05622e",
   "metadata": {},
   "source": [
    "### Анализ пропусков"
   ]
  },
  {
   "cell_type": "code",
   "execution_count": 118,
   "id": "f702a194",
   "metadata": {},
   "outputs": [
    {
     "name": "stdout",
     "output_type": "stream",
     "text": [
      "Пропуски по колонкам:\n",
      " deck           688\n",
      "age            177\n",
      "embarked         2\n",
      "embark_town      2\n",
      "sex              0\n",
      "pclass           0\n",
      "survived         0\n",
      "fare             0\n",
      "parch            0\n",
      "sibsp            0\n",
      "class            0\n",
      "adult_male       0\n",
      "who              0\n",
      "alive            0\n",
      "alone            0\n",
      "dtype: int64\n"
     ]
    }
   ],
   "source": [
    "print(\"Пропуски по колонкам:\\n\", tit.isna().sum().sort_values(ascending=False))"
   ]
  },
  {
   "cell_type": "markdown",
   "id": "30f35799",
   "metadata": {},
   "source": [
    "### Что обычно делают с Titanic: \n",
    "- Ищут репрезентативные признаки (sex, pclass, age, fare, embarked, sibsp, parch)  \n",
    "- Обрабатывают пропуски \n",
    "- Анализируют выживаемость по группам (`groupby(['sex','pclass'])['survived'].mean()`)  \n",
    "- Преобразуют категории в численные"
   ]
  },
  {
   "cell_type": "code",
   "execution_count": 119,
   "id": "fea89269",
   "metadata": {},
   "outputs": [
    {
     "name": "stdout",
     "output_type": "stream",
     "text": [
      "\n",
      "Выживаемость по полу:\n",
      " sex\n",
      "female    0.742038\n",
      "male      0.188908\n",
      "Name: survived, dtype: float64\n",
      "\n",
      "Выживаемость по классу и полу:\n",
      " pclass  sex   \n",
      "1       female    0.968085\n",
      "        male      0.368852\n",
      "2       female    0.921053\n",
      "        male      0.157407\n",
      "3       female    0.500000\n",
      "        male      0.135447\n",
      "Name: survived, dtype: float64\n"
     ]
    }
   ],
   "source": [
    "# Пример простого анализа: выживаемость по полу и классу\n",
    "if 'survived' in tit.columns:\n",
    "    surv_by_sex = tit.groupby('sex')['survived'].mean()\n",
    "    print(\"\\nВыживаемость по полу:\\n\", surv_by_sex)\n",
    "    surv_by_class_sex = tit.groupby(['pclass','sex'])['survived'].mean()\n",
    "    print(\"\\nВыживаемость по классу и полу:\\n\", surv_by_class_sex)\n",
    "else:\n",
    "    print(\"Колонка 'survived' отсутствует — возможно другой формат CSV\")"
   ]
  },
  {
   "cell_type": "markdown",
   "id": "d2d3ea0b",
   "metadata": {},
   "source": [
    "### Работа с пропусками: пример для `age` и `embarked`"
   ]
  },
  {
   "cell_type": "code",
   "execution_count": 120,
   "id": "6bd00c77",
   "metadata": {},
   "outputs": [
    {
     "name": "stdout",
     "output_type": "stream",
     "text": [
      "age stats (before):\n",
      " count    714.000000\n",
      "mean      29.699118\n",
      "std       14.526497\n",
      "min        0.420000\n",
      "25%       20.125000\n",
      "50%       28.000000\n",
      "75%       38.000000\n",
      "max       80.000000\n",
      "Name: age, dtype: float64\n",
      "Заполнили age медианой; пропусков осталось: 0\n"
     ]
    }
   ],
   "source": [
    "# Посмотрим распределение возрастов (текстово)\n",
    "print(\"age stats (before):\\n\", tit['age'].describe())\n",
    "\n",
    "# заполним медианой как базовое решение\n",
    "if tit['age'].isna().sum() > 0:\n",
    "    tit['age_filled'] = tit['age'].fillna(tit['age'].median())\n",
    "    print(\"Заполнили age медианой; пропусков осталось:\", tit['age_filled'].isna().sum())\n",
    "else:\n",
    "    tit['age_filled'] = tit['age']"
   ]
  },
  {
   "cell_type": "code",
   "execution_count": 123,
   "id": "8fa61cb7",
   "metadata": {},
   "outputs": [
    {
     "data": {
      "text/plain": [
       "count    891.000000\n",
       "mean      29.361582\n",
       "std       13.019697\n",
       "min        0.420000\n",
       "25%       22.000000\n",
       "50%       28.000000\n",
       "75%       35.000000\n",
       "max       80.000000\n",
       "Name: age_filled, dtype: float64"
      ]
     },
     "execution_count": 123,
     "metadata": {},
     "output_type": "execute_result"
    }
   ],
   "source": [
    "tit['age_filled'].describe()"
   ]
  },
  {
   "cell_type": "markdown",
   "id": "c2a9f1ce",
   "metadata": {},
   "source": [
    "### Примеры выборок и новых колонок\n",
    "- выбрать пассажиров первого класса: `tit[tit['pclass']==1]`\n",
    "- создать бинарную колонку `is_child = age < 12`"
   ]
  },
  {
   "cell_type": "code",
   "execution_count": 124,
   "id": "a53cc98b",
   "metadata": {},
   "outputs": [
    {
     "name": "stdout",
     "output_type": "stream",
     "text": [
      "First class count: 216\n",
      "\n",
      "Children count: 68\n",
      "\n",
      "Выживаемость детей: is_child\n",
      "False    0.368165\n",
      "True     0.573529\n",
      "Name: survived, dtype: float64\n"
     ]
    }
   ],
   "source": [
    "# Выборки и новые колонки\n",
    "first_class = tit[tit['pclass'] == 1]\n",
    "print(\"First class count:\", len(first_class))\n",
    "\n",
    "tit['is_child'] = tit['age_filled'] < 12\n",
    "print(\"\\nChildren count:\", tit['is_child'].sum())\n",
    "\n",
    "# Survival among children\n",
    "if 'survived' in tit.columns:\n",
    "    print(\"\\nВыживаемость детей:\", tit.groupby('is_child')['survived'].mean())"
   ]
  },
  {
   "cell_type": "markdown",
   "id": "6f77f709",
   "metadata": {},
   "source": [
    "## Мини-проект: короткий анализ\n",
    "**Задание:** используя `tit`:\n",
    "1. Посчитать, какая доля выжила в целом.  \n",
    "2. Посчитать выживаемость по `pclass` и `sex`.  \n",
    "3. Найти медианный возраст по классам.  \n",
    "4. Сохранить небольшой csv-отчёт с этими агрегатами: `titanic_analysis_<yourname>.csv`."
   ]
  },
  {
   "cell_type": "code",
   "execution_count": 125,
   "id": "0d12828f",
   "metadata": {},
   "outputs": [
    {
     "name": "stdout",
     "output_type": "stream",
     "text": [
      "Results (sample):\n",
      "survival_rate_overall : 0.3838383838383838\n",
      "survival_by_sex : {'female': 0.7420382165605095, 'male': 0.18890814558058924}\n",
      "survival_by_pclass : {1: 0.6296296296296297, 2: 0.47282608695652173, 3: 0.24236252545824846}\n",
      "median_age_by_pclass : {1: 35.0, 2: 28.0, 3: 28.0}\n",
      "\n",
      "Saved report to titanic_analysis_example.csv\n"
     ]
    }
   ],
   "source": [
    "# Шаблон решения для мини-проекта\n",
    "df_work = tit.copy()\n",
    "\n",
    "results = {}\n",
    "\n",
    "if 'survived' in df_work.columns:\n",
    "    results['survival_rate_overall'] = df_work['survived'].mean()\n",
    "    results['survival_by_sex'] = df_work.groupby('sex')['survived'].mean().to_dict()\n",
    "    results['survival_by_pclass'] = df_work.groupby('pclass')['survived'].mean().to_dict()\n",
    "\n",
    "results['median_age_by_pclass'] = df_work.groupby('pclass')['age_filled'].median().to_dict()\n",
    "\n",
    "print(\"Results (sample):\")\n",
    "for k,v in results.items():\n",
    "    print(k, \":\", v)\n",
    "\n",
    "# Сохранить в CSV: преобразуем в DataFrame\n",
    "res_df = pd.DataFrame({\n",
    "    'metric': list(results.keys()),\n",
    "    'value': [str(v) for v in results.values()]\n",
    "})\n",
    "out_name = 'titanic_analysis_example.csv'\n",
    "res_df.to_csv(out_name, index=False)\n",
    "print(\"\\nSaved report to\", out_name)"
   ]
  },
  {
   "cell_type": "markdown",
   "id": "623cff74",
   "metadata": {},
   "source": [
    "## Упражнения\n",
    "1. вывести 5 самых дорогих билетов (`fare`), показать их `name`, `pclass`, `survived`.\n",
    "2. посчитать число уникальных портов посадки (`embarked`).\n",
    "3. создать колонку `family_size = sibsp + parch + 1` и посмотреть её связь с `survived`."
   ]
  },
  {
   "cell_type": "markdown",
   "id": "2dba524f",
   "metadata": {},
   "source": [
    "## Сохранение работы и сдача ДЗ\n",
    "1. Выполнить практическую работу в конце раздела \"NumPy\".\n",
    "2. Выполнить задания `1-3` из блока \"Упражнения\". Сохранить результаты в `lesson2_<yourname>.ipynb` и запушить в репозиторий `DS_intro` в ветку `homework/lesson2-<yourname>`.\n",
    "3. В Colab: `File -> Save a copy in GitHub` → выбрать репозиторий `DS_intro` → указать ветку `homework/lesson2-<yourname>` и короткий message.  \n",
    "4. Локально: `File -> Download .ipynb` и загрузить на GitHub.  \n",
    "5. Указать в [таблице](https://docs.google.com/spreadsheets/d/1a1h71raeU-3O0DM2DwVADAMlWlimWq9gzgGY1_oESXw/edit?usp=sharing) актуальную ссылку на репозиторий и ноутбуки с ДЗ №1 и №2.\n",
    "\n",
    "**Срок:** до 27.10  \n",
    "**Вопросы:** в Telegram."
   ]
  },
  {
   "cell_type": "markdown",
   "id": "430ff3a0",
   "metadata": {},
   "source": [
    "## Полезные ссылки\n",
    "- NumPy docs: https://numpy.org/doc/  \n",
    "- Pandas docs: https://pandas.pydata.org/docs/  \n",
    "- Titanic dataset (Kaggle): https://www.kaggle.com/c/titanic\n",
    "- Colab: https://colab.research.google.com"
   ]
  }
 ],
 "metadata": {
  "kernelspec": {
   "display_name": "Python 3",
   "language": "python",
   "name": "python3"
  },
  "language_info": {
   "codemirror_mode": {
    "name": "ipython",
    "version": 3
   },
   "file_extension": ".py",
   "mimetype": "text/x-python",
   "name": "python",
   "nbconvert_exporter": "python",
   "pygments_lexer": "ipython3",
   "version": "3.12.11"
  }
 },
 "nbformat": 4,
 "nbformat_minor": 5
}
